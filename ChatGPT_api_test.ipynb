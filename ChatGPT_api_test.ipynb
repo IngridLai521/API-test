{
 "cells": [
  {
   "cell_type": "code",
   "execution_count": 21,
   "id": "4797f669",
   "metadata": {},
   "outputs": [],
   "source": [
    "from openai import OpenAI\n",
    "\n",
    "client = OpenAI(\n",
    "    # defaults to os.environ.get(\"OPENAI_API_KEY\")\n",
    "    api_key=\"sk-a5clNtLdEZ7zYwhJvyod2BBOmpMRiEHIy4gwx0TCZS6TSeja\",\n",
    "    # base_url=\"https://api.chatanywhere.tech/v1\"\n",
    "    base_url=\"https://api.chatanywhere.cn/v1\"\n",
    ")"
   ]
  },
  {
   "cell_type": "code",
   "execution_count": 24,
   "id": "db45dca9",
   "metadata": {},
   "outputs": [
    {
     "name": "stdout",
     "output_type": "stream",
     "text": [
      "ChatCompletionMessage(content='入门学习C++编程语言的最佳方法之一是通过阅读相关的书籍和教程，并且练习编写简单的程序。以下是一些建议：\\n\\n1. 选择一本优秀的C++入门书籍，例如《C++ Primer》或《Accelerated C++》。这些书籍会从基础概念开始，循序渐进地介绍C++语言的各个方面。\\n\\n2. 在网上寻找一些免费或付费的在线教程，例如Codecademy、Coursera、Udemy等平台都有提供相关课程。\\n\\n3. 安装一个合适的集成开发环境（IDE），比如Visual Studio、Code::Blocks或者Eclipse等，并开始编写简单的程序来巩固所学知识。\\n\\n4. 寻找一些开源项目，阅读他们源代码会让你更深入地理解C++语言以及实际应用中常见的问题和解决方案。\\n\\n5. 加入社区论坛或者参加线下活动，和其他程序员交流并分享经验也是不错的方式。\\n\\n记住，学习任何新技能都需要时间和耐心。祝你在学习C++过程中取得成功！', role='assistant', function_call=None, tool_calls=None)\n"
     ]
    }
   ],
   "source": [
    "completion = client.chat.completions.create(\n",
    "  model=\"gpt-3.5-turbo\",\n",
    "  messages=[\n",
    "    {\"role\": \"assistant\", \"content\": \"你是一個專業的AI教學顧問，請根據問題使用繁體中文回覆\"},\n",
    "    {\"role\": \"user\", \"content\": \"我想學習c++該怎麼入手？\"}\n",
    "  ]\n",
    ")\n",
    "\n",
    "print(completion.choices[0].message)"
   ]
  },
  {
   "cell_type": "code",
   "execution_count": 25,
   "id": "d4981265",
   "metadata": {},
   "outputs": [
    {
     "name": "stdout",
     "output_type": "stream",
     "text": [
      "ChatCompletionMessage(content='當青蛙去看醫生時，醫生問：「你為什麼來看我？」青蛙回答說：「因為我覺得我吞了一個玩具汽車。」醫生驚訝地問：「怎麼可能？」青蛙回答：「它一直在我的肚子裡轟隆轟隆地開著', role='assistant', function_call=None, tool_calls=None)\n"
     ]
    }
   ],
   "source": [
    "completion = client.chat.completions.create(\n",
    "  model=\"gpt-3.5-turbo\",\n",
    "  messages=[\n",
    "    {\"role\": \"assistant\", \"content\": \"你是一個搞笑藝人，請根據問題使用繁體中文回覆\"},\n",
    "    {\"role\": \"user\", \"content\": \"請講一個關於青蛙的笑話？\"}\n",
    "  ]\n",
    ")\n",
    "\n",
    "print(completion.choices[0].message)"
   ]
  },
  {
   "cell_type": "markdown",
   "id": "57ede369",
   "metadata": {},
   "source": [
    "不好笑"
   ]
  },
  {
   "cell_type": "code",
   "execution_count": 64,
   "id": "1a3d474d",
   "metadata": {},
   "outputs": [
    {
     "name": "stdout",
     "output_type": "stream",
     "text": [
      "烏鴉為什麼像書桌呢？這個問題有點像是謎語，其實答案是不知道。請問你能告訴我原因嗎？\n"
     ]
    }
   ],
   "source": [
    "completion = client.chat.completions.create(\n",
    "  model=\"gpt-3.5-turbo\",\n",
    "  messages=[\n",
    "    {\"role\": \"system\", \"content\": \"請根據問題使用繁體中文回覆\"},\n",
    "    {\"role\": \"user\", \"content\": \"你知道烏鴉為什麼像書桌嗎？\"}\n",
    "  ]\n",
    ")\n",
    "\n",
    "print(completion.choices[0].message.content)"
   ]
  },
  {
   "cell_type": "markdown",
   "id": "d2756d75",
   "metadata": {},
   "source": [
    "**連續對話**"
   ]
  },
  {
   "cell_type": "code",
   "execution_count": 65,
   "id": "162f504c",
   "metadata": {},
   "outputs": [],
   "source": [
    "# 初始化對話\n",
    "conversation_history = [\n",
    "    {\"role\": \"system\", \"content\": \"你是一個專業的教學顧問，請根據問題使用繁體中文回覆\"},\n",
    "    {\"role\": \"user\", \"content\": \"我想學習C++要從哪邊開始入手\"}\n",
    "]\n",
    "\n",
    "def get_response(conversation_history):\n",
    "    # 呼叫API，發送完整的對話歷史\n",
    "    response = client.chat.completions.create(\n",
    "        model=\"gpt-3.5-turbo\",\n",
    "        messages=conversation_history\n",
    "    )\n",
    "    return response.choices[0].message.content"
   ]
  },
  {
   "cell_type": "code",
   "execution_count": 66,
   "id": "9dc404dc",
   "metadata": {},
   "outputs": [
    {
     "name": "stdout",
     "output_type": "stream",
     "text": [
      "從學習 C++ 的基本概念開始是一個不錯的起點。你可以從了解變數、資料型別、迴圈和條件語句等基礎知識開始。接著，學習函數、類別和物件導向程式設計等進階主題。建議你可以通過閱讀相關書籍、觀看教學視頻或參加線上課程來深入了解 C++ 語言。不斷實踐和寫程式也是提升技能的重要方法。祝你學習順利\n"
     ]
    }
   ],
   "source": [
    "# 初始回覆\n",
    "initial_response = get_response(conversation_history)\n",
    "conversation_history.append({\"role\": \"system\", \"content\": str(initial_response)})\n",
    "print(initial_response)"
   ]
  },
  {
   "cell_type": "code",
   "execution_count": 67,
   "id": "db75ddfd",
   "metadata": {},
   "outputs": [
    {
     "name": "stdout",
     "output_type": "stream",
     "text": [
      "**從學習 C++ 的基本概念開始是一個不錯的起點。你可以從了解變數、資料型別、迴圈和條件語句等基礎知識開始。接著，學習函數、類別和物件導向程式設計等進階主題。建議你可以通過閱讀相關書籍、觀看教學視頻或參加線上課程來深入了解 C++ 語言。不斷實踐和寫程式也是提升技能的重要方法。祝你學習順利**\n",
      "\n",
      "對於入門 C++ 的書籍推薦，我建議你考慮《C++ Primer》這本書。它被廣泛認為是一本深入淺出且詳盡的入門書籍，涵蓋了 C++ 的基礎和進階主題，並提供了豐富的範例和解釋。這本書可以幫助你建立堅實的 C++ 基礎，並引導你進入更深入的學習。希望這本書能幫助你順利開始學習 C\n"
     ]
    }
   ],
   "source": [
    "new_user_input = \"請推薦我一本深入淺出的入門書籍\"\n",
    "\n",
    "# 將提問加入歷史\n",
    "conversation_history.append({\"role\": \"user\", \"content\": new_user_input})\n",
    "\n",
    "# 獲取回覆並加入歷史\n",
    "new_answer = get_response(conversation_history)\n",
    "conversation_history.append({\"role\": \"system\", \"content\": new_answer})\n",
    "\n",
    "print(new_answer)"
   ]
  },
  {
   "cell_type": "code",
   "execution_count": 68,
   "id": "af03c5c7",
   "metadata": {},
   "outputs": [
    {
     "data": {
      "text/plain": [
       "[{'role': 'system', 'content': '你是一個專業的教學顧問，請根據問題使用繁體中文回覆'},\n",
       " {'role': 'user', 'content': '我想學習C++要從哪邊開始入手'},\n",
       " {'role': 'system',\n",
       "  'content': '從學習 C++ 的基本概念開始是一個不錯的起點。你可以從了解變數、資料型別、迴圈和條件語句等基礎知識開始。接著，學習函數、類別和物件導向程式設計等進階主題。建議你可以通過閱讀相關書籍、觀看教學視頻或參加線上課程來深入了解 C++ 語言。不斷實踐和寫程式也是提升技能的重要方法。祝你學習順利'},\n",
       " {'role': 'user', 'content': '請推薦我一本深入淺出的入門書籍'},\n",
       " {'role': 'system',\n",
       "  'content': '**從學習 C++ 的基本概念開始是一個不錯的起點。你可以從了解變數、資料型別、迴圈和條件語句等基礎知識開始。接著，學習函數、類別和物件導向程式設計等進階主題。建議你可以通過閱讀相關書籍、觀看教學視頻或參加線上課程來深入了解 C++ 語言。不斷實踐和寫程式也是提升技能的重要方法。祝你學習順利**\\n\\n對於入門 C++ 的書籍推薦，我建議你考慮《C++ Primer》這本書。它被廣泛認為是一本深入淺出且詳盡的入門書籍，涵蓋了 C++ 的基礎和進階主題，並提供了豐富的範例和解釋。這本書可以幫助你建立堅實的 C++ 基礎，並引導你進入更深入的學習。希望這本書能幫助你順利開始學習 C'}]"
      ]
     },
     "execution_count": 68,
     "metadata": {},
     "output_type": "execute_result"
    }
   ],
   "source": [
    "conversation_history"
   ]
  },
  {
   "cell_type": "markdown",
   "id": "5fa81180",
   "metadata": {},
   "source": [
    "> 連續對話修正方向：自動問答，答完後自動出現input框（圖形介面？）。計算對話回合數，只保留當前回合回答，必要時可弱化較早期的提問。\n",
    "\n",
    "> 進階：簡化刪除錯誤輸入或不滿意的回合。\n",
    "\n",
    "> 其他需求：對話停止與儲存指令。對話儲存管理，往後需要時還可以接續對話，且可選擇對話開始回合。"
   ]
  },
  {
   "cell_type": "code",
   "execution_count": null,
   "id": "37756627",
   "metadata": {},
   "outputs": [],
   "source": []
  }
 ],
 "metadata": {
  "kernelspec": {
   "display_name": "Python 3 (ipykernel)",
   "language": "python",
   "name": "python3"
  },
  "language_info": {
   "codemirror_mode": {
    "name": "ipython",
    "version": 3
   },
   "file_extension": ".py",
   "mimetype": "text/x-python",
   "name": "python",
   "nbconvert_exporter": "python",
   "pygments_lexer": "ipython3",
   "version": "3.10.7"
  }
 },
 "nbformat": 4,
 "nbformat_minor": 5
}
